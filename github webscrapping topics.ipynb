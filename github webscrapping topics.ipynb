{
 "cells": [
  {
   "cell_type": "markdown",
   "id": "c3b6b1c2-f291-436e-92f9-6738f80fce06",
   "metadata": {},
   "source": [
    "### Pick a website and describe your objective\n",
    "- Browse through different sites and pick on to scrape. Check the \"Project Ideas\" section for inspiration.\n",
    "- Identify the information you'd like to scrape from the site. Decide the format of the output CSV file.\n",
    "- Summarize your project idea and outline your strategy in a Juptyer notebook. Use the \"New\" button above."
   ]
  },
  {
   "cell_type": "markdown",
   "id": "6949ac49-a5fc-4737-9e75-369440763c0a",
   "metadata": {},
   "source": [
    "### 1. Use the requests library to download web pages\n",
    "\n",
    "- Inspect the website's HTML source and identify the right URLs to download.\n",
    "- Download and save web pages locally using the requests library.\n",
    "- Create a function to automate downloading for different topics/search queries."
   ]
  },
  {
   "cell_type": "code",
   "execution_count": 697,
   "id": "3667248b-195e-4cf6-b307-6fd85f45b0ee",
   "metadata": {},
   "outputs": [],
   "source": [
    "import requests"
   ]
  },
  {
   "cell_type": "code",
   "execution_count": 698,
   "id": "f00292d8-7c0b-44da-8a31-a3b2b97cccca",
   "metadata": {},
   "outputs": [],
   "source": [
    "topics_url = \"https://github.com/topics\""
   ]
  },
  {
   "cell_type": "code",
   "execution_count": 699,
   "id": "55e343c1-21b7-4763-aeb9-64e348899dab",
   "metadata": {},
   "outputs": [],
   "source": [
    "response = requests.get(topics_url)"
   ]
  },
  {
   "cell_type": "code",
   "execution_count": 700,
   "id": "02d6b4a3-f12a-4603-a511-b5c283e13701",
   "metadata": {},
   "outputs": [
    {
     "data": {
      "text/plain": [
       "200"
      ]
     },
     "execution_count": 700,
     "metadata": {},
     "output_type": "execute_result"
    }
   ],
   "source": [
    "response.status_code"
   ]
  },
  {
   "cell_type": "code",
   "execution_count": 701,
   "id": "b5db19d2-e146-4be3-bce6-7ea738eed470",
   "metadata": {},
   "outputs": [
    {
     "data": {
      "text/plain": [
       "205601"
      ]
     },
     "execution_count": 701,
     "metadata": {},
     "output_type": "execute_result"
    }
   ],
   "source": [
    "len(response.text)"
   ]
  },
  {
   "cell_type": "code",
   "execution_count": 702,
   "id": "7b3125a5-3cc5-4238-ae09-4bf3c0ced8a0",
   "metadata": {},
   "outputs": [],
   "source": [
    "page_contents = response.text"
   ]
  },
  {
   "cell_type": "code",
   "execution_count": 703,
   "id": "90240080-bdbd-4d53-a2c9-be88ceb47f93",
   "metadata": {
    "scrolled": true
   },
   "outputs": [
    {
     "data": {
      "text/plain": [
       "'\\n\\n<!DOCTYPE html>\\n<html\\n  lang=\"en\"\\n  \\n  data-color-mode=\"auto\" data-light-theme=\"light\" data-dark-theme=\"dark\"\\n  data-a11y-animated-images=\"system\" data-a11y-link-underlines=\"true\"\\n  \\n  >\\n\\n\\n\\n  <head>\\n    <meta charset=\"utf-8\">\\n  <link rel=\"dns-prefetch\" href=\"https://github.githubassets.com\">\\n  <link rel=\"dns-prefetch\" href=\"https://avatars.githubusercontent.com\">\\n  <link rel=\"dns-prefetch\" href=\"https://github-cloud.s3.amazonaws.com\">\\n  <link rel=\"dns-prefetch\" href=\"https://user-images.githubusercontent.com/\">\\n  <link rel=\"preconnect\" href=\"https://github.githubassets.com\" crossorigin>\\n  <link rel=\"preconnect\" href=\"https://avatars.githubusercontent.com\">\\n\\n  \\n\\n  <link crossorigin=\"anonymous\" media=\"all\" rel=\"stylesheet\" href=\"https://github.githubassets.com/assets/light-7aa84bb7e11e.css\" /><link crossorigin=\"anonymous\" media=\"all\" rel=\"stylesheet\" href=\"https://github.githubassets.com/assets/dark-f65db3e8d171.css\" /><link data-color-theme=\"dark_dimmed\" crossorigin=\"anonymous\" media='"
      ]
     },
     "execution_count": 703,
     "metadata": {},
     "output_type": "execute_result"
    }
   ],
   "source": [
    "page_contents[:1000]"
   ]
  },
  {
   "cell_type": "code",
   "execution_count": 704,
   "id": "85f3eb9f-ea07-43aa-8c25-e79e8dffa4e3",
   "metadata": {},
   "outputs": [],
   "source": [
    "with open(\"webpage.html\" , \"w\", encoding=\"utf-8\") as f:\n",
    "    f.write(page_contents)"
   ]
  },
  {
   "cell_type": "markdown",
   "id": "6ca6dd39-feb8-4a5e-aae6-72bfae0574fd",
   "metadata": {},
   "source": [
    "### Use Beautiful Soup to parse and extract information\n",
    "\n",
    "- Parse and explore the structure of downloaded web pages using Beautiful soup.\n",
    "- Use the right properties and methods to extract the required information.\n",
    "- Create functions to extract from the page into lists and dictionaries.\n",
    "- (Optional) Use a REST API to acquire additional information if required."
   ]
  },
  {
   "cell_type": "code",
   "execution_count": 705,
   "id": "9fd54bce-8e5d-4c96-a748-6d253096350a",
   "metadata": {
    "scrolled": true
   },
   "outputs": [],
   "source": [
    "from bs4 import BeautifulSoup\n",
    "soup = BeautifulSoup(page_contents, \"html.parser\")"
   ]
  },
  {
   "cell_type": "code",
   "execution_count": 706,
   "id": "ca716066-1b15-4aed-89c7-b4eda3cabc85",
   "metadata": {},
   "outputs": [
    {
     "data": {
      "text/plain": [
       "[<p class=\"f3 lh-condensed mb-0 mt-1 Link--primary\">3D</p>,\n",
       " <p class=\"f3 lh-condensed mb-0 mt-1 Link--primary\">Ajax</p>,\n",
       " <p class=\"f3 lh-condensed mb-0 mt-1 Link--primary\">Algorithm</p>,\n",
       " <p class=\"f3 lh-condensed mb-0 mt-1 Link--primary\">Amp</p>,\n",
       " <p class=\"f3 lh-condensed mb-0 mt-1 Link--primary\">Android</p>]"
      ]
     },
     "execution_count": 706,
     "metadata": {},
     "output_type": "execute_result"
    }
   ],
   "source": [
    "Topic_title_tags = soup.find_all(\"p\", {\"class\": \"f3 lh-condensed mb-0 mt-1 Link--primary\"})\n",
    "Topic_title_tags[:5]"
   ]
  },
  {
   "cell_type": "code",
   "execution_count": 707,
   "id": "9258f2ee-6cec-4877-ab56-2239f4af5213",
   "metadata": {},
   "outputs": [
    {
     "name": "stdout",
     "output_type": "stream",
     "text": [
      "['3D', 'Ajax', 'Algorithm', 'Amp', 'Android', 'Angular', 'Ansible', 'API', 'Arduino', 'ASP.NET', 'Awesome Lists', 'Amazon Web Services', 'Azure', 'Babel', 'Bash', 'Bitcoin', 'Bootstrap', 'Bot', 'C', 'Chrome', 'Chrome extension', 'Command-line interface', 'Clojure', 'Code quality', 'Code review', 'Compiler', 'Continuous integration', 'C++', 'Cryptocurrency', 'Crystal']\n"
     ]
    }
   ],
   "source": [
    "Topic_titles = []\n",
    "\n",
    "for tag in Topic_title_tags:\n",
    "    Topic_titles.append(tag.text)\n",
    "    \n",
    "print(Topic_titles)"
   ]
  },
  {
   "cell_type": "code",
   "execution_count": 708,
   "id": "92f4740c-d566-487d-b5f7-f2a89be4105d",
   "metadata": {},
   "outputs": [
    {
     "data": {
      "text/plain": [
       "[<p class=\"f5 color-fg-muted mb-0 mt-1\">\n",
       "           3D refers to the use of three-dimensional graphics, modeling, and animation in various industries.\n",
       "         </p>]"
      ]
     },
     "execution_count": 708,
     "metadata": {},
     "output_type": "execute_result"
    }
   ],
   "source": [
    "Topic_desc_tags = soup.find_all(\"p\", {\"class\":\"f5 color-fg-muted mb-0 mt-1\"})\n",
    "Topic_desc_tags[:1]"
   ]
  },
  {
   "cell_type": "code",
   "execution_count": 709,
   "id": "5c066664-5dc7-42dd-8025-c4b82bfa3c08",
   "metadata": {
    "scrolled": true
   },
   "outputs": [
    {
     "data": {
      "text/plain": [
       "['3D refers to the use of three-dimensional graphics, modeling, and animation in various industries.',\n",
       " 'Ajax is a technique for creating interactive web applications.',\n",
       " 'Algorithms are self-contained sequences that carry out a variety of tasks.',\n",
       " 'Amp is a non-blocking concurrency library for PHP.',\n",
       " 'Android is an operating system built by Google designed for mobile devices.',\n",
       " 'Angular is an open source web application platform.',\n",
       " 'Ansible is a simple and powerful automation engine.',\n",
       " 'An API (Application Programming Interface) is a collection of protocols and subroutines for building software.',\n",
       " 'Arduino is an open source platform for building electronic devices.',\n",
       " 'ASP.NET is a web framework for building modern web apps and services.',\n",
       " 'An awesome list is a list of awesome things curated by the community.',\n",
       " 'Amazon Web Services provides on-demand cloud computing platforms on a subscription basis.',\n",
       " 'Azure is a cloud computing service created by Microsoft.',\n",
       " 'Babel is a compiler for writing next generation JavaScript, today.',\n",
       " 'Bash is a shell and command language interpreter for the GNU operating system.',\n",
       " 'Bitcoin is a cryptocurrency developed by Satoshi Nakamoto.',\n",
       " 'Bootstrap is an HTML, CSS, and JavaScript framework.',\n",
       " 'A bot is an application that runs automated tasks over the Internet.',\n",
       " 'C is a general purpose programming language that first appeared in 1972.',\n",
       " 'Chrome is a web browser from the tech company Google.',\n",
       " 'Chrome extensions enable users to customize the Chrome browsing experience.',\n",
       " 'A CLI, or command-line interface, is a console that helps users issue commands to a program.',\n",
       " 'Clojure is a dynamic, general-purpose programming language.',\n",
       " 'Automate your code review with style, quality, security, and test‑coverage checks when you need them.',\n",
       " 'Ensure your code meets quality standards and ship with confidence.',\n",
       " 'Compilers are software that translate higher-level programming languages to lower-level languages (e.g. machine code).',\n",
       " 'Automatically build and test your code as you push it upstream, preventing bugs from being deployed to production.',\n",
       " 'C++ is a general purpose and object-oriented programming language.',\n",
       " 'A cryptocurrency is a digital currency that uses cryptography.',\n",
       " 'Crystal is a self-hosted, general purpose programming language.']"
      ]
     },
     "execution_count": 709,
     "metadata": {},
     "output_type": "execute_result"
    }
   ],
   "source": [
    "topic_desc = []\n",
    "\n",
    "for tag in Topic_desc_tags:\n",
    "    topic_desc.append(tag.text.strip())\n",
    "\n",
    "topic_desc"
   ]
  },
  {
   "cell_type": "code",
   "execution_count": 710,
   "id": "48e6edd9-cf5b-472a-bd1d-d9cfd50330dd",
   "metadata": {},
   "outputs": [],
   "source": [
    "topic_url_tags = soup.find_all(\"a\", {\"class\": \"no-underline flex-grow-0\"})"
   ]
  },
  {
   "cell_type": "code",
   "execution_count": 711,
   "id": "0ce54d93-4065-4711-a7d0-ad890b8045bb",
   "metadata": {},
   "outputs": [
    {
     "data": {
      "text/plain": [
       "'https://github.com/topics/arduino'"
      ]
     },
     "execution_count": 711,
     "metadata": {},
     "output_type": "execute_result"
    }
   ],
   "source": [
    "topic0_url = \"https://github.com\" + topic_url_tags[8][\"href\"]\n",
    "topic0_url"
   ]
  },
  {
   "cell_type": "code",
   "execution_count": 712,
   "id": "63cb3dbd-77a8-452f-96da-329ca68119cb",
   "metadata": {},
   "outputs": [
    {
     "data": {
      "text/plain": [
       "['https://github.com/topics/3d',\n",
       " 'https://github.com/topics/ajax',\n",
       " 'https://github.com/topics/algorithm',\n",
       " 'https://github.com/topics/amphp',\n",
       " 'https://github.com/topics/android']"
      ]
     },
     "execution_count": 712,
     "metadata": {},
     "output_type": "execute_result"
    }
   ],
   "source": [
    "topic_url = []\n",
    "base_url = \"https://github.com\"\n",
    "for tag in topic_url_tags:\n",
    "    topic_url.append(base_url + tag[\"href\"])\n",
    "\n",
    "topic_url[:5]"
   ]
  },
  {
   "cell_type": "code",
   "execution_count": null,
   "id": "7c2df6a5-c029-46ab-8872-749c4d2dd29d",
   "metadata": {},
   "outputs": [],
   "source": []
  },
  {
   "cell_type": "markdown",
   "id": "fa2b21a8-ce96-46ea-8ff2-8c8bb5dd18f7",
   "metadata": {},
   "source": [
    "### Create CSV file(s) with the extracted information\n",
    "\n",
    "- Create functions for the end-to-end process of downloading, parsing, and saving CSVs.\n",
    "- Execute the function with different inputs to create a dataset of CSV files.\n",
    "- Verify the information in the CSV files by reading them back using Pandas."
   ]
  },
  {
   "cell_type": "code",
   "execution_count": 713,
   "id": "22a904df-40bc-4d2e-9ab8-9fc4479c09c0",
   "metadata": {},
   "outputs": [],
   "source": [
    "import pandas as pd\n",
    "topics_dict = {\n",
    "    \"Title\": Topic_titles,\n",
    "    \"description\": topic_desc,\n",
    "    \"url\":topic_url\n",
    "}\n",
    "topics_df = pd.DataFrame(topics_dict)\n"
   ]
  },
  {
   "cell_type": "markdown",
   "id": "b3a56e66-c2cf-4aa7-9c72-9ed72e665b7d",
   "metadata": {},
   "source": [
    "### Create CSV file with the extracted information\n"
   ]
  },
  {
   "cell_type": "code",
   "execution_count": 714,
   "id": "0b8a43b4-8ec0-4f18-bbdb-966801f6267e",
   "metadata": {},
   "outputs": [],
   "source": [
    "topics_df.to_csv(\"topics.csv\" ,  index=False)"
   ]
  },
  {
   "cell_type": "markdown",
   "id": "8d7b0ce4-c2ff-4d75-bc0d-80055959c690",
   "metadata": {},
   "source": [
    "### Getting information out of a topic page"
   ]
  },
  {
   "cell_type": "code",
   "execution_count": 715,
   "id": "944b5fca-d031-44cc-a70c-7055a228a4cc",
   "metadata": {},
   "outputs": [],
   "source": [
    "topic_page_url = topic_url[0]"
   ]
  },
  {
   "cell_type": "code",
   "execution_count": 716,
   "id": "e978b654-c76a-4269-9fbb-94b70219655b",
   "metadata": {},
   "outputs": [
    {
     "data": {
      "text/plain": [
       "'https://github.com/topics/3d'"
      ]
     },
     "execution_count": 716,
     "metadata": {},
     "output_type": "execute_result"
    }
   ],
   "source": [
    "topic_page_url"
   ]
  },
  {
   "cell_type": "code",
   "execution_count": 717,
   "id": "82c5e21a-4316-4b3f-9464-15643a4ca64f",
   "metadata": {},
   "outputs": [],
   "source": [
    "response = requests.get(topic_page_url)"
   ]
  },
  {
   "cell_type": "code",
   "execution_count": 718,
   "id": "4b297737-cffb-41d3-b01e-618c1ab27972",
   "metadata": {},
   "outputs": [],
   "source": [
    "page = BeautifulSoup(response.text, \"html.parser\")"
   ]
  },
  {
   "cell_type": "code",
   "execution_count": 719,
   "id": "77ace031-0021-416d-a2e6-a44f0d12d64b",
   "metadata": {},
   "outputs": [
    {
     "data": {
      "text/plain": [
       "'mrdoob'"
      ]
     },
     "execution_count": 719,
     "metadata": {},
     "output_type": "execute_result"
    }
   ],
   "source": [
    "repo_tags = page.find_all('h3', {\"class\": \"f3 color-fg-muted text-normal lh-condensed\"})\n",
    "a_tags = repo_tags[0].find_all('a')\n",
    "a_tags[0].text.strip()"
   ]
  },
  {
   "cell_type": "code",
   "execution_count": 720,
   "id": "3d105794-9e9c-4e44-8387-58349fc811dc",
   "metadata": {},
   "outputs": [
    {
     "data": {
      "text/plain": [
       "'three.js'"
      ]
     },
     "execution_count": 720,
     "metadata": {},
     "output_type": "execute_result"
    }
   ],
   "source": [
    "a_tags[1].text"
   ]
  },
  {
   "cell_type": "code",
   "execution_count": 721,
   "id": "b02c9a7e-74f6-4e8b-ac3a-9f26a14229e1",
   "metadata": {},
   "outputs": [
    {
     "name": "stdout",
     "output_type": "stream",
     "text": [
      "https://github.com/topics/mrdoob/three.js\n"
     ]
    }
   ],
   "source": [
    "base_url = \"https://github.com/topics\"\n",
    "repo_url = base_url + a_tags[1][\"href\"]\n",
    "print(repo_url)"
   ]
  },
  {
   "cell_type": "code",
   "execution_count": 722,
   "id": "70eb2aef-47a3-4cc5-9e12-b1d9e80efb64",
   "metadata": {},
   "outputs": [
    {
     "data": {
      "text/plain": [
       "20"
      ]
     },
     "execution_count": 722,
     "metadata": {},
     "output_type": "execute_result"
    }
   ],
   "source": [
    "star_tags = page.find_all(\"span\" , {\"class\": \"Counter js-social-count\"})\n",
    "len(star_tags)"
   ]
  },
  {
   "cell_type": "code",
   "execution_count": 723,
   "id": "c4fa4cda-cd21-4b0c-99d1-fa1a853b6b3b",
   "metadata": {},
   "outputs": [
    {
     "data": {
      "text/plain": [
       "'104k'"
      ]
     },
     "execution_count": 723,
     "metadata": {},
     "output_type": "execute_result"
    }
   ],
   "source": [
    "star_tags[0].text.strip()"
   ]
  },
  {
   "cell_type": "code",
   "execution_count": 724,
   "id": "747cc1ae-f929-4861-b221-7d03f7872bb3",
   "metadata": {},
   "outputs": [],
   "source": [
    "def parse_star_count(stars_str):\n",
    "    stars_str = stars_str.strip()\n",
    "    if stars_str[-1] == \"k\":\n",
    "        return int(float(stars_str[:-1]) * 1000)\n",
    "        return int(star_str)"
   ]
  },
  {
   "cell_type": "code",
   "execution_count": 725,
   "id": "b485e629-7eec-409c-8bf5-0c9923331203",
   "metadata": {},
   "outputs": [
    {
     "data": {
      "text/plain": [
       "104000"
      ]
     },
     "execution_count": 725,
     "metadata": {},
     "output_type": "execute_result"
    }
   ],
   "source": [
    "parse_star_count(star_tags[0].text.strip())"
   ]
  },
  {
   "cell_type": "code",
   "execution_count": 726,
   "id": "2810d956-917c-435a-b6c3-151f45b1f7d3",
   "metadata": {},
   "outputs": [],
   "source": [
    "def get_repo_info(h3_tag, star_tags):\n",
    "    # returns all the information on a repository\n",
    "    a_tags = repo_tags[0].find_all('a')\n",
    "    username = a_tags[0].text.strip()\n",
    "    repo_name = a_tags[1].text\n",
    "    repo_url = base_url + a_tags[1][\"href\"]\n",
    "    stars = parse_star_count(star_tags.text.strip())\n",
    "    return username, repo_name, repo_url, stars"
   ]
  },
  {
   "cell_type": "code",
   "execution_count": 727,
   "id": "52f72817-3ad0-421f-93bc-0300d4be59b4",
   "metadata": {},
   "outputs": [],
   "source": [
    "topic_repos_dict = {\n",
    "    \"username\" : [],\n",
    "    \"repo_name\": [],\n",
    "    \"repo_url\": [],\n",
    "    \"stars\": [],\n",
    "}\n",
    "\n",
    "\n",
    "for i in range(len(repo_tags)):\n",
    "    repo_info = get_repo_info(repo_tags[i], star_tags[i])\n",
    "    topic_repos_dict[\"username\"].append(repo_info[0])\n",
    "    topic_repos_dict[\"repo_name\"].append(repo_info[1])\n",
    "    topic_repos_dict[\"repo_url\"].append(repo_info[2])\n",
    "    topic_repos_dict[\"stars\"].append(repo_info[3])\n",
    "                              "
   ]
  },
  {
   "cell_type": "code",
   "execution_count": 728,
   "id": "6fc6400d-97ac-49d4-8e43-9b95bac630f6",
   "metadata": {},
   "outputs": [
    {
     "data": {
      "text/plain": [
       "{'username': ['mrdoob',\n",
       "  'mrdoob',\n",
       "  'mrdoob',\n",
       "  'mrdoob',\n",
       "  'mrdoob',\n",
       "  'mrdoob',\n",
       "  'mrdoob',\n",
       "  'mrdoob',\n",
       "  'mrdoob',\n",
       "  'mrdoob',\n",
       "  'mrdoob',\n",
       "  'mrdoob',\n",
       "  'mrdoob',\n",
       "  'mrdoob',\n",
       "  'mrdoob',\n",
       "  'mrdoob',\n",
       "  'mrdoob',\n",
       "  'mrdoob',\n",
       "  'mrdoob',\n",
       "  'mrdoob'],\n",
       " 'repo_name': ['three.js',\n",
       "  'three.js',\n",
       "  'three.js',\n",
       "  'three.js',\n",
       "  'three.js',\n",
       "  'three.js',\n",
       "  'three.js',\n",
       "  'three.js',\n",
       "  'three.js',\n",
       "  'three.js',\n",
       "  'three.js',\n",
       "  'three.js',\n",
       "  'three.js',\n",
       "  'three.js',\n",
       "  'three.js',\n",
       "  'three.js',\n",
       "  'three.js',\n",
       "  'three.js',\n",
       "  'three.js',\n",
       "  'three.js'],\n",
       " 'repo_url': ['https://github.com/topics/mrdoob/three.js',\n",
       "  'https://github.com/topics/mrdoob/three.js',\n",
       "  'https://github.com/topics/mrdoob/three.js',\n",
       "  'https://github.com/topics/mrdoob/three.js',\n",
       "  'https://github.com/topics/mrdoob/three.js',\n",
       "  'https://github.com/topics/mrdoob/three.js',\n",
       "  'https://github.com/topics/mrdoob/three.js',\n",
       "  'https://github.com/topics/mrdoob/three.js',\n",
       "  'https://github.com/topics/mrdoob/three.js',\n",
       "  'https://github.com/topics/mrdoob/three.js',\n",
       "  'https://github.com/topics/mrdoob/three.js',\n",
       "  'https://github.com/topics/mrdoob/three.js',\n",
       "  'https://github.com/topics/mrdoob/three.js',\n",
       "  'https://github.com/topics/mrdoob/three.js',\n",
       "  'https://github.com/topics/mrdoob/three.js',\n",
       "  'https://github.com/topics/mrdoob/three.js',\n",
       "  'https://github.com/topics/mrdoob/three.js',\n",
       "  'https://github.com/topics/mrdoob/three.js',\n",
       "  'https://github.com/topics/mrdoob/three.js',\n",
       "  'https://github.com/topics/mrdoob/three.js'],\n",
       " 'stars': [104000,\n",
       "  28100,\n",
       "  23700,\n",
       "  23600,\n",
       "  22900,\n",
       "  21100,\n",
       "  18300,\n",
       "  16800,\n",
       "  14000,\n",
       "  13300,\n",
       "  12700,\n",
       "  11900,\n",
       "  11800,\n",
       "  11400,\n",
       "  10400,\n",
       "  9900,\n",
       "  9800,\n",
       "  8400,\n",
       "  8000,\n",
       "  7900]}"
      ]
     },
     "execution_count": 728,
     "metadata": {},
     "output_type": "execute_result"
    }
   ],
   "source": [
    "topic_repos_dict"
   ]
  },
  {
   "cell_type": "markdown",
   "id": "5a8cd69f-1007-496e-93e3-df3b2429e243",
   "metadata": {},
   "source": [
    "### Document and share your work\n",
    "\n",
    "- Add proper headings and documentation in your Jupyter notebook.\n",
    "- Publish your Jupyter notebook to your Jovian profile\n",
    "- (Optional) Write a blog post about your project and share it online."
   ]
  },
  {
   "cell_type": "code",
   "execution_count": null,
   "id": "8b421b5c-0001-430c-b6a1-865a52a5465a",
   "metadata": {},
   "outputs": [],
   "source": []
  },
  {
   "cell_type": "code",
   "execution_count": null,
   "id": "15ade654-d2db-49bb-8fd1-e3ce941f5271",
   "metadata": {},
   "outputs": [],
   "source": []
  }
 ],
 "metadata": {
  "kernelspec": {
   "display_name": "Python 3 (ipykernel)",
   "language": "python",
   "name": "python3"
  },
  "language_info": {
   "codemirror_mode": {
    "name": "ipython",
    "version": 3
   },
   "file_extension": ".py",
   "mimetype": "text/x-python",
   "name": "python",
   "nbconvert_exporter": "python",
   "pygments_lexer": "ipython3",
   "version": "3.12.7"
  }
 },
 "nbformat": 4,
 "nbformat_minor": 5
}
